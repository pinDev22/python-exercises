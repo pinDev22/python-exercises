{
 "cells": [
  {
   "cell_type": "markdown",
   "id": "a97d808a",
   "metadata": {},
   "source": [
    "## Exercise #1"
   ]
  },
  {
   "cell_type": "markdown",
   "id": "892bf769",
   "metadata": {},
   "source": [
    "Cube Number Test... Print out all cubed numbers up to the total value 1000. Meaning that if the cubed number is over 1000 break the loop."
   ]
  },
  {
   "cell_type": "code",
   "execution_count": 7,
   "id": "bb74abc6",
   "metadata": {},
   "outputs": [
    {
     "name": "stdout",
     "output_type": "stream",
     "text": [
      "0\n",
      "1\n",
      "512\n"
     ]
    }
   ],
   "source": [
    "# 1. Create number list\n",
    "# 2. Create for loop that enumerates over numbers list\n",
    "# 3. cube value of enumerated var\n",
    "\n",
    "list_num = [0,1,8,27,64,125,216,343,512,729,1000]\n",
    "\n",
    "for num in list_num:\n",
    "    cubed_val = num*num*num\n",
    "    if cubed_val > 1000:\n",
    "        break\n",
    "    print(cubed_val)\n"
   ]
  },
  {
   "cell_type": "markdown",
   "id": "27aedd81",
   "metadata": {},
   "source": [
    "## Exercise #2"
   ]
  },
  {
   "cell_type": "markdown",
   "id": "a563007b",
   "metadata": {},
   "source": [
    "Get first prime numbers up to 100"
   ]
  },
  {
   "cell_type": "code",
   "execution_count": 23,
   "id": "66f84805",
   "metadata": {},
   "outputs": [
    {
     "name": "stdout",
     "output_type": "stream",
     "text": [
      "2\n",
      "3\n",
      "5\n",
      "7\n",
      "11\n",
      "13\n",
      "17\n",
      "19\n",
      "23\n",
      "29\n",
      "31\n",
      "37\n",
      "41\n",
      "43\n",
      "47\n",
      "53\n",
      "59\n",
      "61\n",
      "67\n",
      "71\n",
      "73\n",
      "79\n",
      "83\n",
      "89\n",
      "97\n"
     ]
    }
   ],
   "source": [
    "# 1. create list with a range of values from 2 - 100\n",
    "# 2. create for loop to iterate through each number\n",
    "# 3. iterate through subrange of all ints between 2-n\n",
    "# 4. if value is divisible by 0 is not prime and needs to break\n",
    "\n",
    "nums = list(range(2,101))\n",
    "\n",
    "for num in nums:\n",
    "    for i in range(2, int(num/2)+1):\n",
    "        if (num % i) == 0:\n",
    "            break\n",
    "    else:\n",
    "         print(num)\n",
    "\n",
    "    \n",
    "    "
   ]
  },
  {
   "cell_type": "markdown",
   "id": "597b90f8",
   "metadata": {},
   "source": [
    "## Exercise #3"
   ]
  },
  {
   "cell_type": "markdown",
   "id": "0693da86",
   "metadata": {},
   "source": [
    "Take in a users input for their age, if they are younger than 18 print kids, if they're 18 to 65 print adults, else print seniors"
   ]
  },
  {
   "cell_type": "code",
   "execution_count": 16,
   "id": "56cee57b",
   "metadata": {},
   "outputs": [
    {
     "name": "stdout",
     "output_type": "stream",
     "text": [
      "How old are you?76\n",
      "seniors\n"
     ]
    }
   ],
   "source": [
    "# 1. Create title variable\n",
    "title = 'seniors'\n",
    "# 2. ask user how old they are\n",
    "age = int(input('How old are you?'))\n",
    "\n",
    "# 3. respond based on the answer given\n",
    "if age < 18:\n",
    "    title = 'kids'\n",
    "elif age >= 18 and age <= 65:\n",
    "    title = 'adults'\n",
    "    \n",
    "print(title)\n"
   ]
  },
  {
   "cell_type": "code",
   "execution_count": null,
   "id": "d422cfea",
   "metadata": {},
   "outputs": [],
   "source": []
  },
  {
   "cell_type": "code",
   "execution_count": null,
   "id": "b6a3ba6c",
   "metadata": {},
   "outputs": [],
   "source": []
  }
 ],
 "metadata": {
  "kernelspec": {
   "display_name": "Python 3 (ipykernel)",
   "language": "python",
   "name": "python3"
  },
  "language_info": {
   "codemirror_mode": {
    "name": "ipython",
    "version": 3
   },
   "file_extension": ".py",
   "mimetype": "text/x-python",
   "name": "python",
   "nbconvert_exporter": "python",
   "pygments_lexer": "ipython3",
   "version": "3.9.13"
  }
 },
 "nbformat": 4,
 "nbformat_minor": 5
}
